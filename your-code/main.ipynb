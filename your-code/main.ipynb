{
 "cells": [
  {
   "cell_type": "markdown",
   "metadata": {
    "vscode": {
     "languageId": "plaintext"
    }
   },
   "source": [
    "# LAB | GenAI: Exploring Prompting Techniques for Customer Support Automation"
   ]
  },
  {
   "cell_type": "markdown",
   "metadata": {},
   "source": [
    "## Tasks\n",
    "\n",
    "**Objective:**\n",
    "\n",
    "Learn and apply different prompting techniques to improve the performance of a language model in generating customer support responses.\n",
    "\n",
    "**Business Case:**\n",
    "\n",
    "Imagine you are working for a company that provides a variety of services, including technical support, billing inquiries, and general customer service. Your task is to use a language model to automate responses to customer emails.\n",
    "\n",
    "**Dataset:**\n",
    "\n",
    "Download the FAQ of a company to do this exercise. Below you have a couple of examples, but feel free to find your own:\n",
    " - https://info.undp.org/erecruit/documents/FAQ.pdf\n",
    " - https://www.cambridgeenglish.org/Images/696254-faqs-digital-cambridge-english-qualifications.pdf\n",
    " - https://www.wscc.nt.ca/sites/default/files/documents/0009-518-Item-04-INDESIGN-FAQ-Template%203%20-%20MINUS%20FIRST%20QUESTION.pdf\n",
    "\n",
    "\n",
    "### Task 1\n",
    "\n",
    "Download and Read the PDF:\n",
    "\n",
    "  - Choose one of the provided FAQ PDFs or find your own relevant FAQ document.\n",
    "  - Read through the FAQ document carefully to understand the types of questions and answers it contains.\n",
    "  - Create Questions Based on the PDF ( you can use ChatGPT for this)\n",
    "    - Generate a list of potential customer questions that could be answered using the information from the FAQ PDF.\n",
    "    - Ensure your questions cover a variety of topics and difficulty levels found within the document.\n",
    "    - Generate Responses Using Different Prompting Techniques:\n",
    "\n",
    "Use a language model (such as ChatGPT) to generate responses to your questions.\n",
    "Experiment with different prompting techniques to see how they affect the quality of the responses."
   ]
  },
  {
   "cell_type": "markdown",
   "metadata": {},
   "source": [
    "## Types of prompting\n",
    "\n",
    "For each of the types prompting, perform the following:\n",
    " - Research what the type of prompting is\n",
    " - Create a small explaination of the prompting\n",
    " - Test your type of prompting vs the control prompt (direct question)"
   ]
  },
  {
   "cell_type": "markdown",
   "metadata": {
    "vscode": {
     "languageId": "plaintext"
    }
   },
   "source": [
    "### Zero-Shot Prompting\n",
    "\n",
    "Use the knowledge base to create prompts without examples.\n",
    "Test the model's ability to generate accurate responses based solely on the provided instructions.\n",
    "Assess the performance compared to few-shot prompting."
   ]
  },
  {
   "cell_type": "code",
   "execution_count": null,
   "metadata": {},
   "outputs": [],
   "source": [
    "'''\n",
    "Research:\n",
    "Zero-shot prompting refers to a method where a model is given a task or prompt without prior examples or fine-tuning specific to the task. In other words, the model is \n",
    "expected to perform the task \"out of the box\" without any extra training or input tailored to the specific problem.\n",
    "\n",
    "Explanation:\n",
    "Zero-shot prompting is used when you want to ask the model to perform a task without giving it explicit examples. The model applies its pre-existing knowledge \n",
    "to understand the task. This approach leverages the model's general capabilities to interpret instructions and generate responses based on what it has learned \n",
    "during pre-training. For instance, asking the model to classify text as \"positive\" or \"negative\" without showing any labeled examples is an example of zero-shot prompting.\n",
    "\n",
    "\n",
    "\n",
    "'''"
   ]
  },
  {
   "cell_type": "markdown",
   "metadata": {
    "vscode": {
     "languageId": "plaintext"
    }
   },
   "source": [
    "### Few-Shot Prompting\n",
    "\n",
    "Select a few representative emails from each category.\n",
    "Create prompts by including these examples and ask the model to generate responses for new emails.\n",
    "Evaluate the quality and relevance of the responses."
   ]
  },
  {
   "cell_type": "code",
   "execution_count": null,
   "metadata": {},
   "outputs": [],
   "source": [
    "'''\n",
    "Research:\n",
    "Few-shot prompting involves providing the model with a few examples of the task you're asking it to perform. Unlike zero-shot prompting, where no examples \n",
    "are given, few-shot prompting includes a handful of examples to guide the model's understanding of the desired output. These examples help the model generalize \n",
    "and make predictions or generate responses based on patterns from the examples provided.\n",
    "\n",
    "Explanation:\n",
    "Few-shot prompting is a technique where you give the model a small number of examples (typically 1 to 10) related to the task you're asking it to perform. This helps \n",
    "the model better understand the context or structure of the task. For example, when asking the model to classify text sentiment, you might provide a few labeled examples \n",
    "(positive, negative, neutral) so the model knows what to look for. This approach leverages both the model's prior knowledge and the examples you provide to guide its output.\n",
    "\n",
    "prompt: How do I apply for a job using the system?\n",
    "\n",
    "Applicants must register, complete personal information, and submit their application online.\n",
    "Now, based on this, how can I check the status of my application?\"\n",
    "\n",
    "Control Prompt:\n",
    "\"How can I check the status of my application in the UNDP e-Recruitment system?\"\n",
    "'''"
   ]
  },
  {
   "cell_type": "markdown",
   "metadata": {},
   "source": [
    "### Chain of Thought Prompting\n",
    "\n",
    "Develop prompts that guide the model to think through the problem step-by-step before providing the final answer.\n",
    "Analyze if this approach improves the quality of technical support responses.\n"
   ]
  },
  {
   "cell_type": "code",
   "execution_count": null,
   "metadata": {},
   "outputs": [],
   "source": [
    "'''\n",
    "Research:\n",
    "Chain of Thought (CoT) prompting is a technique where you guide the model to break down a task step by step, mimicking a reasoning process. It encourages \n",
    "the model to \"think out loud\" and show its thought process, which can improve accuracy and clarity in complex tasks. This can be particularly useful \n",
    "for reasoning through multi-step problems or tasks that require logical thinking.\n",
    "\n",
    "Explanation:\n",
    "In Chain of Thought prompting, the model is asked to explain its reasoning before arriving at a final answer. This helps the model organize its response and can \n",
    "lead to more accurate answers, especially in tasks like math problems, logical deductions, or any task requiring step-by-step analysis.\n",
    "\n",
    "Prompt:\n",
    "\"To understand the application process, let's break it down: First, candidates need to create an account. Then, they fill in personal information. \n",
    "After that, the applicant can submit their application. Now, consider the following: 'How do I create an account in the e-Recruitment system?' What steps should be taken?\"\n",
    "\n",
    "Control Prompt:\n",
    "\"How do I create an account in the UNDP e-Recruitment system?\"\n",
    "\n",
    "This Chain of Thought prompt encourages the model to consider the logical sequence of steps involved in the process.\n",
    "'''"
   ]
  },
  {
   "cell_type": "markdown",
   "metadata": {},
   "source": [
    "### Instruction-Based Prompting\n",
    "\n",
    "Write clear and explicit instructions in the prompts for each type of customer inquiry.\n",
    "Measure the effectiveness of detailed instructions in guiding the model."
   ]
  },
  {
   "cell_type": "code",
   "execution_count": null,
   "metadata": {},
   "outputs": [],
   "source": [
    "'''\n",
    "Research:\n",
    "Instruction-based prompting involves providing clear and specific instructions for the model to follow when performing a task. The prompt explicitly \n",
    "guides the model on how to generate a response, making it particularly effective when you want to control the format or style of the output.\n",
    "\n",
    "Explanation:\n",
    "In instruction-based prompting, the user directly instructs the model on what to do. These instructions are explicit and often very detailed, \n",
    "ensuring that the model adheres to a specific pattern or set of expectations. It is useful for tasks that require a structured output, such as generating lists, \n",
    "writing in a specific tone, or performing specific operations.\n",
    "\n",
    "Test Prompt:\n",
    "\"Please summarize the main steps involved in creating an account on the UNDP e-Recruitment system.\"\n",
    "\n",
    "Control Prompt:\n",
    "\"How do I create an account in the UNDP e-Recruitment system?\"\n",
    "'''"
   ]
  },
  {
   "cell_type": "markdown",
   "metadata": {},
   "source": [
    "### Role-Playing Prompting\n",
    "\n",
    "Ask the model to respond as a customer service representative or technical support expert.\n",
    "Evaluate how well the model adopts the role and provides relevant information."
   ]
  },
  {
   "cell_type": "code",
   "execution_count": null,
   "metadata": {},
   "outputs": [],
   "source": [
    "'''\n",
    "Research:\n",
    "Role-playing prompting is a technique where the model is asked to take on a specific persona or role to perform a task or answer a question. This can \n",
    "be useful for simulating interactions, creating creative scenarios, or providing a more human-like response. The model is expected to respond from the perspective \n",
    "of the assigned role, which can lead to more contextually relevant or entertaining outputs.\n",
    "\n",
    "Explanation:\n",
    "In role-playing prompting, you instruct the model to assume a particular identity or role, like a teacher, advisor, or customer service agent. The model's \n",
    "responses are influenced by the character it is meant to portray, and it can help facilitate more tailored or interactive conversations.\n",
    "\n",
    "Test Prompt:\n",
    "\"Pretend you are a customer support agent for the UNDP e-Recruitment system. How would you assist a user who is having trouble submitting their application?\"\n",
    "\n",
    "Control Prompt:\n",
    "\"How can I submit my application on the UNDP e-Recruitment system?\"\n",
    "'''"
   ]
  },
  {
   "cell_type": "markdown",
   "metadata": {},
   "source": [
    "### Contextual Prompting\n",
    "\n",
    "Provide relevant context from previous email threads or the knowledge base before posing the main question.\n",
    "Test if providing context improves the accuracy and relevance of the responses."
   ]
  },
  {
   "cell_type": "code",
   "execution_count": null,
   "metadata": {},
   "outputs": [],
   "source": [
    "'''\n",
    "Research:\n",
    "Contextual prompting refers to the technique of tailoring prompts based on the specific context or situation in which the model is asked to generate a response. \n",
    "This method ensures that the model considers the relevant background information when providing an answer. Contextual prompts allow the model to adjust its responses \n",
    "according to a given scenario or condition, improving accuracy and relevance.\n",
    "\n",
    "Explanation:\n",
    "In contextual prompting, the model's responses are influenced by a specific context provided within the prompt. This might include background information, \n",
    "previous conversations, or situational factors. The goal is to make the model’s output more relevant and aligned with the current situation or task.\n",
    "\n",
    "Test:\n",
    "Test Prompt:\n",
    "\"Considering that you are helping someone with their first time using the UNDP e-Recruitment system, explain the steps involved in submitting an application.\"\n",
    "\n",
    "Control Prompt:\n",
    "\"How do I submit an application on the UNDP e-Recruitment system?\"\n",
    "'''"
   ]
  },
  {
   "cell_type": "markdown",
   "metadata": {},
   "source": [
    "### Conversational Prompting\n",
    "\n",
    "Create a dialogue-style prompt where the model continues an ongoing conversation with the customer.\n",
    "Observe how well the model maintains context and coherence in multi-turn conversations."
   ]
  },
  {
   "cell_type": "code",
   "execution_count": null,
   "metadata": {},
   "outputs": [],
   "source": [
    "'''\n",
    "Research:\n",
    "Conversational prompting is a technique where the model engages in a more natural, back-and-forth style of conversation. This approach is designed to simulate human-like \n",
    "dialogue, where the model can ask follow-up questions, clarify uncertainties, or adjust its responses based on prior exchanges in the conversation.\n",
    "\n",
    "Explanation:\n",
    "In conversational prompting, the user and model interact in a manner similar to a real conversation. This method encourages a dynamic flow of dialogue, which \n",
    "can be helpful in scenarios where the user requires assistance over a series of questions or tasks. It makes the interaction feel more engaging and personalized.\n",
    "\n",
    "Test:\n",
    "Test Prompt:\n",
    "\"Hey, I’m having trouble with the UNDP e-Recruitment system. Could you guide me through the application process?\"\n",
    "\n",
    "Control Prompt:\n",
    "\"How do I apply for a job on the UNDP e-Recruitment system?\"\n",
    "'''"
   ]
  },
  {
   "cell_type": "markdown",
   "metadata": {},
   "source": [
    "### Contrastive Prompting\n",
    "\n",
    "Show the model examples of both good and bad responses.\n",
    "Use these contrasting examples to guide the model towards generating better responses.\n",
    "Compare the results with other techniques."
   ]
  },
  {
   "cell_type": "code",
   "execution_count": null,
   "metadata": {},
   "outputs": [],
   "source": [
    "'''\n",
    "Research:\n",
    "Contrastive prompting is a technique where the model is presented with two or more contrasting options and asked to choose between them or highlight the \n",
    "differences. This method can help the model focus on distinguishing features, which is particularly useful in tasks like classification, decision-making, or \n",
    "comparing different concepts.\n",
    "\n",
    "Explanation:\n",
    "In contrastive prompting, the model is guided to consider two opposing or distinct scenarios, choices, or statements. By doing so, it helps the model differentiate\n",
    "between them and arrive at a more informed or refined answer.\n",
    "\n",
    "Test:\n",
    "Test Prompt:\n",
    "\"Which statement is more accurate: 'The UNDP e-Recruitment system allows applicants to create a profile and apply for jobs' OR 'The UNDP e-Recruitment system only allows users to apply for jobs, but not create a profile'?\"\n",
    "\n",
    "Control Prompt:\n",
    "\"Does the UNDP e-Recruitment system allow applicants to create a profile and apply for jobs?\"\n",
    "'''"
   ]
  },
  {
   "cell_type": "markdown",
   "metadata": {},
   "source": [
    "### Specificity Prompting\n",
    "\n",
    "Ask the model to respond with a specific style, tone, or level of detail, such as formal, friendly, or concise.\n",
    "Assess how well the model adapts its responses to the specified requirements."
   ]
  },
  {
   "cell_type": "code",
   "execution_count": null,
   "metadata": {},
   "outputs": [],
   "source": [
    "'''\n",
    "Research:\n",
    "Specificity prompting is a technique that encourages the model to generate detailed and precise responses, usually by asking for a clear, focused answer or by \n",
    "limiting the scope of the task. This type of prompt is particularly useful when you want the model to provide specific information or when a broad answer would be\n",
    "too vague or irrelevant.\n",
    "\n",
    "Explanation:\n",
    "In specificity prompting, the user provides explicit instructions that narrow the response down to a particular aspect of the topic. This ensures \n",
    "that the model delivers more targeted, relevant information rather than general or broad statements.\n",
    "\n",
    "Test:\n",
    "Test Prompt:\n",
    "\"What are the exact steps to create a user profile in the UNDP e-Recruitment system, without any extra details?\"\n",
    "\n",
    "Control Prompt:\n",
    "\"How do I create a profile in the UNDP e-Recruitment system?\"\n",
    "'''"
   ]
  },
  {
   "cell_type": "markdown",
   "metadata": {},
   "source": [
    "### Iterative Refinement Prompting\n",
    "\n",
    "Ask the model to refine or improve upon its previous response.\n",
    "Experiment with multiple iterations to see if responses improve over time."
   ]
  },
  {
   "cell_type": "code",
   "execution_count": null,
   "metadata": {},
   "outputs": [],
   "source": [
    "'''\n",
    "Research:\n",
    "Iterative refinement prompting is a process where the user asks the model to refine or improve its response progressively, based on feedback or additional \n",
    "instructions. This technique is useful for tasks that require continuous improvement, such as generating high-quality content, solving complex problems, or fine-tuning\n",
    "results over multiple steps.\n",
    "\n",
    "Explanation:\n",
    "In iterative refinement prompting, the model's initial response is reviewed and modified with each iteration. This method allows for gradual enhancement of the \n",
    "output, refining the model's understanding of the task and improving accuracy over time.\n",
    "\n",
    "Test:\n",
    "Test Prompt:\n",
    "\"Explain how to use the UNDP e-Recruitment system. Start with a brief overview and then, in the next response, give more details about each step involved.\"\n",
    "\n",
    "Control Prompt:\n",
    "\"How do I use the UNDP e-Recruitment system?\"\n",
    "'''"
   ]
  }
 ],
 "metadata": {
  "kernelspec": {
   "display_name": "Python [conda env:base] *",
   "language": "python",
   "name": "conda-base-py"
  },
  "language_info": {
   "codemirror_mode": {
    "name": "ipython",
    "version": 3
   },
   "file_extension": ".py",
   "mimetype": "text/x-python",
   "name": "python",
   "nbconvert_exporter": "python",
   "pygments_lexer": "ipython3",
   "version": "3.12.7"
  }
 },
 "nbformat": 4,
 "nbformat_minor": 4
}
